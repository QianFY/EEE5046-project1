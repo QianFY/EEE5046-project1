{
 "cells": [
  {
   "cell_type": "code",
   "execution_count": 1,
   "metadata": {},
   "outputs": [],
   "source": [
    "import numpy as np\n",
    "import matplotlib.pyplot as plt\n",
    "from PIL import Image\n",
    "import os\n",
    "import math"
   ]
  },
  {
   "cell_type": "code",
   "execution_count": 2,
   "metadata": {},
   "outputs": [],
   "source": [
    "def reconstruct_image_with_target_image(original_img, target_img, ratio):\n",
    "    f_original = np.fft.fft2(original_img)\n",
    "    f_original_shift = np.fft.fftshift(f_original)\n",
    "    f_target = np.fft.fft2(target_img)\n",
    "    f_target_shift = np.fft.fftshift(f_target)\n",
    "\n",
    "    amplitude_original = np.abs(f_original_shift)\n",
    "    phase_original = np.angle(f_original_shift)\n",
    "    amplitude_target = np.abs(f_target_shift)\n",
    "\n",
    "    rows, cols = original_img.shape\n",
    "    mask = np.zeros((rows, cols), np.uint8)\n",
    "    mask[rows//4:3*rows//4, cols//4:3*cols//4] = 1\n",
    "    amplitude_new = ((1-ratio)*amplitude_original + ratio*amplitude_target)*mask + amplitude_original*(1-mask)\n",
    "\n",
    "    f_combined_shift = amplitude_new * np.exp(phase_original * 1j)\n",
    "    f_combined = np.fft.ifftshift(f_combined_shift)\n",
    "\n",
    "    combined_img = np.fft.ifft2(f_combined)\n",
    "    combined_img = np.abs(combined_img).astype(np.uint8)\n",
    "\n",
    "    return combined_img\n",
    "\n",
    "\n"
   ]
  },
  {
   "cell_type": "code",
   "execution_count": 5,
   "metadata": {},
   "outputs": [],
   "source": [
    "def process_images_in_batch(data_name, ratio, domain1_path, target_domain_path, output_path):\n",
    "    domain1_images = os.listdir(domain1_path)\n",
    "    target_domain_images = os.listdir(target_domain_path)\n",
    "    if data_name == 'ODOC':\n",
    "        target_img_name = np.random.choice(target_domain_images)\n",
    "        target_img = Image.open(os.path.join(target_domain_path, target_img_name))\n",
    "        target_img_array = np.array(target_img)\n",
    "\n",
    "        for img1_name in domain1_images:\n",
    "            img1 = Image.open(os.path.join(domain1_path, img1_name))\n",
    "            img1_array = np.array(img1)\n",
    "\n",
    "            combined_channels = []\n",
    "            for i in range(3):\n",
    "                combined_img = reconstruct_image_with_target_image(img1_array[:, :, i], target_img_array[:, :, i], ratio)\n",
    "                combined_channels.append(combined_img)\n",
    "                \n",
    "            rgb_image = np.stack(combined_channels, axis = -1)\n",
    "            Image.fromarray(rgb_image).save(os.path.join(output_path, f\"{img1_name}\"))\n",
    "\n",
    "    else:\n",
    "        target_img_name = np.random.choice(target_domain_images)\n",
    "        target_img = Image.open(os.path.join(target_domain_path, target_img_name)).convert('L')\n",
    "        target_img_array = np.array(target_img)\n",
    "        \n",
    "\n",
    "        for img1_name in domain1_images:\n",
    "            img1 = Image.open(os.path.join(domain1_path, img1_name)).convert('L')\n",
    "            img1_array = np.array(img1)\n",
    "\n",
    "            combined_img = reconstruct_image_with_target_image(img1_array, target_img_array, ratio)\n",
    "            rgb_image = np.stack((combined_img, ) * 3, axis = -1)\n",
    "\n",
    "            Image.fromarray(rgb_image).save(os.path.join(output_path, f\"{img1_name}\"))\n",
    "\n"
   ]
  },
  {
   "cell_type": "code",
   "execution_count": 15,
   "metadata": {},
   "outputs": [],
   "source": [
    "data_name = 'FAZ'\n",
    "target_domains = ['Domain2', 'Domain3', 'Domain4', 'Domain5']\n",
    "ratio = 0.7\n",
    "type = 'test'\n",
    "\n",
    "for target_domain in target_domains:\n",
    "    domain1_path = f'../data/{data_name}/Domain1/{type}/imgs'\n",
    "    target_domain_path = f'../data/{data_name}/{target_domain}/{type}/imgs'\n",
    "    output_path = f'../data/{data_name}/Domain1/{type}/imgs_ratio_{ratio}/to{target_domain}'\n",
    "\n",
    "    os.makedirs(output_path, exist_ok=True)\n",
    "\n",
    "    process_images_in_batch(data_name, ratio, domain1_path, target_domain_path, output_path)"
   ]
  }
 ],
 "metadata": {
  "kernelspec": {
   "display_name": "pytorch",
   "language": "python",
   "name": "python3"
  },
  "language_info": {
   "codemirror_mode": {
    "name": "ipython",
    "version": 3
   },
   "file_extension": ".py",
   "mimetype": "text/x-python",
   "name": "python",
   "nbconvert_exporter": "python",
   "pygments_lexer": "ipython3",
   "version": "3.10.12"
  }
 },
 "nbformat": 4,
 "nbformat_minor": 2
}
