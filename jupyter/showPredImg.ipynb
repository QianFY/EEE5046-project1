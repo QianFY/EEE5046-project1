{
 "cells": [
  {
   "cell_type": "code",
   "execution_count": null,
   "metadata": {},
   "outputs": [],
   "source": [
    "from dataloader import *\n",
    "from model import *\n",
    "from plot_utils import *\n",
    "from torch.cuda.amp import autocast as autocast\n",
    "import matplotlib.pyplot as plt\n",
    "from medpy.metric import binary\n",
    "import numpy as np\n",
    "\n",
    "\n",
    "domain_list=['./FAZ/Domain1','./FAZ/Domain2','./FAZ/Domain3','./FAZ/Domain4','./FAZ/Domain5']\n",
    "\n",
    "domain_list=domain_list\n",
    "input_folderL=[os.path.join(domain_list[i],'test/imgs') for i in range(len(domain_list))]\n",
    "label_folderL=[os.path.join(domain_list[i],'test/mask') for i in range(len(domain_list))]\n",
    "pred_folderL=[os.path.join(domain_list[i],'test/pred') for i in range(len(domain_list))]\n",
    "\n",
    "device = torch.device(\"cuda:0\" if torch.cuda.is_available() else \"cpu\")\n",
    "print(device)\n",
    "\n",
    "save_path = './checkpoint/domain1_w_val4.pth'\n",
    "model_state = torch.load(save_path)\n",
    "\n",
    "\n",
    "model = UNet(in_channels=3, out_channels=1)\n",
    "model.load_state_dict(model_state)\n",
    "model.eval()\n",
    "model.to(device,dtype=torch.float32)"
   ]
  },
  {
   "cell_type": "code",
   "execution_count": null,
   "metadata": {},
   "outputs": [],
   "source": [
    "with torch.no_grad():\n",
    "    \n",
    "    # one domain at a time\n",
    "    for idx in range(len(domain_list)):\n",
    "        diceScore=0\n",
    "        dic_record=[]\n",
    "        hd95_record=[]\n",
    "\n",
    "        test_data_loader = get_Domain1_Dataloader(input_folder=input_folderL[idx], label_folder=label_folderL[idx], batch_size=6)\n",
    "\n",
    "        \n",
    "        print(f\"domain:{domain_list[idx]}\\n\")\n",
    "        for index, (inputs, labels) in enumerate(test_data_loader):\n",
    "            inputs = inputs.to(device)\n",
    "            labels = labels.to(device)\n",
    "            model.eval()\n",
    "            outputs = model(inputs)\n",
    "            diceScore = dice_coefficient(outputs, labels)\n",
    "            dic_record.append(diceScore)\n",
    "            show_result(inputs, outputs, labels)\n",
    "            # plot_some(inputs.cpu(),labels.cpu(),outputs.cpu())\n",
    "\n",
    "        torch.cuda.empty_cache()"
   ]
  },
  {
   "cell_type": "code",
   "execution_count": null,
   "metadata": {},
   "outputs": [],
   "source": []
  },
  {
   "cell_type": "code",
   "execution_count": null,
   "metadata": {},
   "outputs": [],
   "source": []
  },
  {
   "cell_type": "code",
   "execution_count": null,
   "metadata": {},
   "outputs": [],
   "source": []
  }
 ],
 "metadata": {
  "kernelspec": {
   "display_name": "VisorEnv",
   "language": "python",
   "name": "python3"
  },
  "language_info": {
   "codemirror_mode": {
    "name": "ipython",
    "version": 3
   },
   "file_extension": ".py",
   "mimetype": "text/x-python",
   "name": "python",
   "nbconvert_exporter": "python",
   "pygments_lexer": "ipython3",
   "version": "3.11.4"
  }
 },
 "nbformat": 4,
 "nbformat_minor": 2
}
